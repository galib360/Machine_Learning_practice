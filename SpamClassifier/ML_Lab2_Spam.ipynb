{
 "cells": [
  {
   "cell_type": "code",
   "execution_count": 1,
   "metadata": {},
   "outputs": [
    {
     "data": {
      "text/plain": [
       "(3680, 919)"
      ]
     },
     "execution_count": 1,
     "metadata": {},
     "output_type": "execute_result"
    }
   ],
   "source": [
    "#Read data\n",
    "import pandas as pd\n",
    "X_train = pd.read_csv('train-data.csv')\n",
    "\n",
    "X_test = pd.read_csv('test-data.csv')\n",
    "\n",
    "Y_train = pd.read_csv('train-targets.csv')\n",
    "\n",
    "Y_test = pd.read_csv('test-targets.csv')\n",
    "len(X_train), len(X_test)\n"
   ]
  },
  {
   "cell_type": "code",
   "execution_count": 2,
   "metadata": {},
   "outputs": [],
   "source": [
    "#Train Model without cross validation\n",
    "from sklearn.svm import SVC\n",
    "model = SVC(C=10, kernel='rbf', gamma = 0.02)"
   ]
  },
  {
   "cell_type": "code",
   "execution_count": 3,
   "metadata": {},
   "outputs": [
    {
     "data": {
      "text/plain": [
       "array([1, 1, 0, 1, 1, 1, 1, 0, 0, 0, 1, 1, 1, 1, 1, 1, 1, 1, 0, 1, 0, 0, 0,\n",
       "       1, 1, 0, 0, 0, 0, 1, 0, 1, 1, 1, 1, 0, 0, 0, 1, 1, 0, 0, 1, 0, 1, 1,\n",
       "       0, 1, 1, 1, 0, 0, 0, 0, 0, 0, 0, 0, 0, 0, 0, 0, 0, 1, 0, 0, 1, 1, 0,\n",
       "       0, 0, 0, 0, 1, 1, 1, 1, 0, 0, 1, 1, 0, 0, 1, 0, 0, 0, 1, 0, 1, 1, 1,\n",
       "       1, 1, 0, 0, 1, 1, 0, 1, 0, 1, 0, 1, 0, 0, 0, 1, 0, 1, 0, 1, 0, 0, 0,\n",
       "       1, 1, 1, 0, 0, 1, 1, 0, 0, 0, 1, 1, 1, 0, 0, 0, 1, 0, 1, 1, 0, 1, 0,\n",
       "       0, 0, 1, 1, 0, 1, 0, 1, 0, 0, 0, 1, 0, 1, 1, 1, 1, 0, 1, 0, 0, 0, 0,\n",
       "       0, 0, 1, 0, 1, 0, 0, 0, 0, 0, 1, 1, 0, 0, 1, 0, 1, 1, 1, 0, 1, 1, 0,\n",
       "       1, 0, 0, 0, 0, 0, 1, 1, 1, 0, 0, 0, 1, 0, 1, 1, 0, 1, 0, 0, 0, 1, 0,\n",
       "       1, 1, 0, 0, 1, 0, 0, 1, 0, 0, 1, 0, 0, 0, 0, 1, 1, 1, 0, 1, 0, 1, 1,\n",
       "       0, 1, 1, 1, 0, 1, 0, 0, 1, 1, 0, 0, 0, 1, 0, 0, 0, 0, 0, 0, 1, 1, 0,\n",
       "       1, 0, 0, 0, 0, 0, 0, 0, 0, 0, 0, 1, 0, 1, 0, 0, 1, 0, 0, 0, 0, 1, 0,\n",
       "       1, 0, 0, 1, 0, 1, 1, 0, 0, 0, 0, 1, 1, 1, 0, 0, 0, 0, 0, 0, 0, 1, 0,\n",
       "       0, 0, 0, 0, 0, 0, 1, 0, 0, 0, 0, 0, 1, 0, 0, 1, 1, 1, 1, 0, 1, 1, 1,\n",
       "       0, 0, 0, 1, 1, 0, 0, 1, 1, 1, 1, 0, 1, 1, 0, 0, 0, 1, 0, 0, 1, 0, 0,\n",
       "       0, 0, 0, 0, 0, 0, 0, 0, 0, 0, 0, 0, 0, 0, 0, 0, 0, 1, 1, 0, 0, 1, 0,\n",
       "       0, 1, 0, 0, 0, 0, 1, 0, 1, 1, 0, 1, 1, 1, 1, 0, 0, 0, 0, 0, 0, 0, 1,\n",
       "       1, 1, 1, 1, 1, 0, 0, 1, 0, 1, 1, 0, 0, 1, 1, 0, 1, 0, 1, 0, 0, 1, 0,\n",
       "       1, 0, 0, 0, 1, 0, 1, 1, 0, 1, 1, 1, 0, 0, 0, 1, 1, 1, 0, 1, 0, 1, 1,\n",
       "       0, 0, 1, 1, 0, 1, 0, 0, 1, 1, 0, 1, 1, 1, 0, 0, 1, 1, 0, 1, 0, 1, 0,\n",
       "       0, 1, 1, 1, 0, 0, 0, 1, 1, 1, 0, 0, 0, 0, 0, 0, 1, 1, 1, 0, 1, 0, 0,\n",
       "       0, 1, 1, 0, 0, 0, 0, 0, 1, 1, 0, 1, 0, 0, 1, 1, 1, 1, 0, 0, 1, 1, 0,\n",
       "       1, 0, 1, 0, 0, 1, 1, 0, 1, 1, 0, 1, 0, 1, 1, 1, 1, 1, 0, 1, 0, 1, 1,\n",
       "       0, 0, 0, 0, 1, 1, 0, 0, 1, 0, 0, 1, 0, 1, 1, 0, 1, 0, 1, 1, 1, 1, 0,\n",
       "       0, 1, 0, 0, 0, 0, 0, 1, 0, 1, 1, 0, 0, 0, 1, 0, 1, 0, 0, 1, 0, 0, 1,\n",
       "       0, 0, 1, 0, 0, 0, 0, 0, 1, 0, 0, 1, 0, 1, 1, 0, 0, 1, 1, 0, 0, 0, 0,\n",
       "       1, 1, 0, 1, 0, 1, 0, 0, 0, 0, 1, 1, 0, 0, 1, 0, 0, 1, 0, 1, 1, 1, 0,\n",
       "       0, 0, 1, 1, 1, 1, 0, 0, 0, 1, 0, 1, 0, 1, 1, 0, 0, 0, 1, 0, 0, 1, 1,\n",
       "       1, 1, 1, 1, 1, 0, 0, 0, 0, 0, 1, 0, 1, 0, 0, 1, 0, 0, 1, 0, 0, 0, 0,\n",
       "       0, 0, 0, 1, 1, 0, 0, 0, 1, 1, 1, 0, 0, 0, 0, 1, 0, 1, 0, 1, 0, 0, 0,\n",
       "       0, 1, 0, 0, 1, 1, 1, 0, 0, 0, 0, 0, 0, 0, 0, 1, 0, 0, 1, 0, 0, 0, 0,\n",
       "       0, 0, 0, 1, 1, 0, 0, 0, 1, 1, 0, 0, 1, 1, 0, 0, 1, 1, 0, 1, 0, 0, 0,\n",
       "       0, 1, 0, 1, 1, 0, 0, 1, 0, 1, 0, 0, 0, 1, 0, 0, 1, 0, 0, 1, 0, 1, 0,\n",
       "       0, 0, 0, 1, 1, 1, 1, 0, 0, 1, 1, 0, 1, 0, 0, 0, 0, 1, 0, 1, 1, 1, 0,\n",
       "       0, 1, 0, 0, 0, 0, 0, 0, 0, 1, 0, 1, 1, 1, 0, 0, 0, 1, 1, 0, 0, 0, 1,\n",
       "       0, 1, 1, 0, 1, 1, 0, 1, 0, 1, 1, 0, 0, 0, 1, 1, 1, 1, 1, 0, 1, 1, 0,\n",
       "       0, 1, 1, 0, 1, 0, 1, 0, 0, 1, 0, 0, 0, 0, 1, 0, 0, 0, 1, 0, 0, 0, 1,\n",
       "       0, 1, 0, 0, 0, 1, 1, 0, 1, 1, 1, 1, 0, 1, 0, 0, 0, 0, 0, 0, 1, 1, 0,\n",
       "       0, 1, 1, 0, 0, 1, 0, 0, 0, 1, 0, 1, 0, 0, 0, 1, 1, 1, 0, 0, 0, 0, 0,\n",
       "       0, 1, 0, 0, 1, 0, 1, 1, 0, 0, 0, 0, 1, 1, 0, 0, 0, 0, 0, 1, 0, 0], dtype=int64)"
      ]
     },
     "execution_count": 3,
     "metadata": {},
     "output_type": "execute_result"
    }
   ],
   "source": [
    "model.fit(X_train, Y_train.values.ravel())\n",
    "\n",
    "y_pred = model.predict(X_test)\n",
    "\n",
    "y_pred"
   ]
  },
  {
   "cell_type": "code",
   "execution_count": 4,
   "metadata": {
    "scrolled": true
   },
   "outputs": [
    {
     "name": "stdout",
     "output_type": "stream",
     "text": [
      "              precision    recall  f1-score   support\n",
      "\n",
      "           0       0.92      0.84      0.87       580\n",
      "           1       0.76      0.87      0.81       339\n",
      "\n",
      "   micro avg       0.85      0.85      0.85       919\n",
      "   macro avg       0.84      0.85      0.84       919\n",
      "weighted avg       0.86      0.85      0.85       919\n",
      "\n"
     ]
    }
   ],
   "source": [
    "# Report scores and accuracy\n",
    "from sklearn import metrics\n",
    "\n",
    "report = metrics.classification_report(Y_test, y_pred)\n",
    "\n",
    "print(report)"
   ]
  },
  {
   "cell_type": "code",
   "execution_count": 5,
   "metadata": {},
   "outputs": [
    {
     "name": "stdout",
     "output_type": "stream",
     "text": [
      "Model Accuracy without cross validation is :  0.848748639826\n"
     ]
    }
   ],
   "source": [
    "print(\"Model Accuracy without cross validation is : \", metrics.accuracy_score(Y_test, y_pred))"
   ]
  },
  {
   "cell_type": "code",
   "execution_count": 13,
   "metadata": {},
   "outputs": [
    {
     "name": "stdout",
     "output_type": "stream",
     "text": [
      "For Gamma :  0.1  Accuracy is:  0.752446428089\n",
      "For Gamma :  0.1  Precision is:  0.848810722173\n",
      "For Gamma :  0.1  Recall is:  0.464795187445\n",
      "For Gamma :  0.1  F1-score is:  0.600122381339\n",
      "For Gamma :  0.05  Accuracy is:  0.81168608431\n",
      "For Gamma :  0.05  Precision is:  0.741603148047\n",
      "For Gamma :  0.05  Recall is:  0.813878415617\n",
      "For Gamma :  0.05  F1-score is:  0.775634478114\n",
      "For Gamma :  0.02  Accuracy is:  0.832069402731\n",
      "For Gamma :  0.02  Precision is:  0.765843283569\n",
      "For Gamma :  0.02  Recall is:  0.837328089272\n",
      "For Gamma :  0.02  F1-score is:  0.799607552912\n",
      "For Gamma :  0.01  Accuracy is:  0.855166050434\n",
      "For Gamma :  0.01  Precision is:  0.809078114155\n",
      "For Gamma :  0.01  Recall is:  0.835950302774\n",
      "For Gamma :  0.01  F1-score is:  0.822068910093\n",
      "Accuracy is:  0.866158868335\n",
      "For Gamma value:  0.01\n"
     ]
    }
   ],
   "source": [
    "##### Trainin with cross validation\n",
    "\n",
    "import numpy as np\n",
    "from sklearn.model_selection import KFold, cross_val_score\n",
    "kf = KFold(n_splits = 3, shuffle = True, random_state =365)\n",
    "\n",
    "gammas = [0.1, 0.05, 0.02, 0.01]\n",
    "accuracy_scores = []\n",
    "\n",
    "for gamma in gammas:\n",
    "    model = SVC(C= 10, kernel = 'rbf', gamma=gamma)\n",
    "    scores = cross_val_score(model, X_train, Y_train.values.ravel(), cv = kf, scoring = 'accuracy')\n",
    "    accuracy_score = scores.mean()\n",
    "    accuracy_scores.append(accuracy_score)\n",
    "    Pscores = cross_val_score(model, X_train, Y_train.values.ravel(), cv = kf, scoring = 'precision')\n",
    "    precision_score = Pscores.mean()\n",
    "    Rscores = cross_val_score(model, X_train, Y_train.values.ravel(), cv = kf, scoring = 'recall')\n",
    "    recall_score = Rscores.mean()\n",
    "    Fscores = cross_val_score(model, X_train, Y_train.values.ravel(), cv = kf, scoring = 'f1')\n",
    "    f1_score = Fscores.mean()\n",
    "    print(\"For Gamma : \" , gamma , \" Accuracy is: \" ,accuracy_score)\n",
    "    print(\"For Gamma : \" , gamma , \" Precision is: \" ,precision_score)\n",
    "    print(\"For Gamma : \" , gamma , \" Recall is: \" ,recall_score)\n",
    "    print(\"For Gamma : \" , gamma , \" F1-score is: \" ,f1_score)\n",
    "    \n",
    "best_index = np.array(accuracy_scores).argmax()\n",
    "best_gamma = gammas[best_index]\n",
    "\n",
    "model = SVC(C=10, kernel = 'rbf', gamma = best_gamma)\n",
    "model.fit(X_train, Y_train.values.ravel())\n",
    "\n",
    "y_pred = model.predict(X_test)\n",
    "accuracy = metrics.accuracy_score(Y_test, y_pred)\n",
    "\n",
    "print(\"Best Accuracy is: \" ,accuracy)\n",
    "\n",
    "print(\"For Best Gamma value: \" , best_gamma)"
   ]
  },
  {
   "cell_type": "code",
   "execution_count": 7,
   "metadata": {},
   "outputs": [
    {
     "name": "stdout",
     "output_type": "stream",
     "text": [
      "              precision    recall  f1-score   support\n",
      "\n",
      "           0       0.92      0.87      0.89       580\n",
      "           1       0.79      0.86      0.83       339\n",
      "\n",
      "   micro avg       0.87      0.87      0.87       919\n",
      "   macro avg       0.85      0.87      0.86       919\n",
      "weighted avg       0.87      0.87      0.87       919\n",
      "\n"
     ]
    }
   ],
   "source": [
    "report = metrics.classification_report(Y_test, y_pred)\n",
    "\n",
    "print(report)"
   ]
  },
  {
   "cell_type": "code",
   "execution_count": 8,
   "metadata": {},
   "outputs": [],
   "source": [
    "df = pd.DataFrame(y_pred)\n",
    "\n",
    "df.to_csv(\"test-pred.txt\", index = False)"
   ]
  },
  {
   "cell_type": "code",
   "execution_count": 9,
   "metadata": {},
   "outputs": [
    {
     "data": {
      "image/png": "[encoded data removed]",
      "text/plain": [
       "<matplotlib.figure.Figure at 0x16eafe70>"
      ]
     },
     "metadata": {
      "needs_background": "light"
     },
     "output_type": "display_data"
    }
   ],
   "source": [
    "#Learning Curve\n",
    "\n",
    "from sklearn.model_selection import learning_curve\n",
    "%matplotlib inline\n",
    "import matplotlib.pyplot as plt\n",
    "\n",
    "plt.figure()\n",
    "plt.title('Learning Curve')\n",
    "plt.xlabel(\"Training Examples\")\n",
    "plt.ylabel('Score')\n",
    "plt.grid()\n",
    "\n",
    "model = SVC(C=10, kernel='rbf', gamma = best_gamma)\n",
    "\n",
    "train_sizes, train_scores, val_scores = learning_curve(model, X_train, Y_train.values.ravel(), \n",
    "                                                      scoring = 'accuracy', cv = 3)\n",
    "\n",
    "train_scores_mean = np.mean(train_scores, axis=1)\n",
    "train_scores_std = np.std(train_scores, axis=1)\n",
    "val_scores_mean = np.mean(val_scores, axis=1)\n",
    "val_scores_std = np.std(val_scores, axis=1)\n",
    "\n",
    "plt.plot(train_sizes, train_scores_mean, 'o-', color = \"r\", label = \"Training Score\")\n",
    "\n",
    "plt.fill_between(train_sizes, train_scores_mean - train_scores_std, \n",
    "                 train_scores_mean+train_scores_std, alpha = 0.1, color=\"r\")\n",
    "\n",
    "plt.plot(train_sizes, val_scores_mean, 'o-', color= 'g', label= 'Cross-Validation Score')\n",
    "\n",
    "plt.fill_between(train_sizes, val_scores_mean - val_scores_std,\n",
    "                val_scores_mean+val_scores_std, alpha = 0.01, color = 'g')\n",
    "\n",
    "plt.ylim(0.05, 1.3)\n",
    "plt.legend()\n",
    "plt.savefig(\"SpamLearningCurve.png\", dpi= 300)\n",
    "plt.show()\n",
    "\n"
   ]
  },
  {
   "cell_type": "code",
   "execution_count": 10,
   "metadata": {},
   "outputs": [
    {
     "name": "stdout",
     "output_type": "stream",
     "text": [
      "[ 0.92155296  0.07647084]\n",
      "[ 38396.52542346  11060.62598947]\n"
     ]
    }
   ],
   "source": [
    "# Extra: PCA\n",
    "import numpy as np\n",
    "from sklearn.decomposition import PCA\n",
    "X = X_train\n",
    "pca = PCA(n_components=2)\n",
    "pca.fit(X)\n",
    "PCA(copy=True, iterated_power='auto', n_components=2, random_state=None,\n",
    "  svd_solver='auto', tol=0.0, whiten=False)\n",
    "print(pca.explained_variance_ratio_)  \n",
    "\n",
    "print(pca.singular_values_)  \n"
   ]
  },
  {
   "cell_type": "code",
   "execution_count": 11,
   "metadata": {},
   "outputs": [
    {
     "data": {
      "image/png": "[encoded data removed]",
      "text/plain": [
       "<matplotlib.figure.Figure at 0xd531b0>"
      ]
     },
     "metadata": {
      "needs_background": "light"
     },
     "output_type": "display_data"
    }
   ],
   "source": [
    "# Visualizing training data\n",
    "plt.figure()\n",
    "\n",
    "from sklearn.decomposition import PCA\n",
    "pca = PCA(n_components=2)\n",
    "proj = pca.fit_transform(X_train)\n",
    "plt.scatter(proj[:, 0], proj[:, 1], c=Y_train.values.ravel(), cmap=\"Paired\")\n",
    "plt.colorbar()\n",
    "plt.savefig(\"SpamVisualize.png\", dpi= 300)"
   ]
  },
  {
   "cell_type": "code",
   "execution_count": 12,
   "metadata": {},
   "outputs": [
    {
     "name": "stdout",
     "output_type": "stream",
     "text": [
      "2207\n",
      "1473\n"
     ]
    }
   ],
   "source": [
    "print(sum(Y_train.values.ravel() == 0))\n",
    "print(sum(Y_train.values.ravel() == 1))"
   ]
  },
  {
   "cell_type": "code",
   "execution_count": null,
   "metadata": {},
   "outputs": [],
   "source": []
  }
 ],
 "metadata": {
  "kernelspec": {
   "display_name": "Python 3",
   "language": "python",
   "name": "python3"
  },
  "language_info": {
   "codemirror_mode": {
    "name": "ipython",
    "version": 3
   },
   "file_extension": ".py",
   "mimetype": "text/x-python",
   "name": "python",
   "nbconvert_exporter": "python",
   "pygments_lexer": "ipython3",
   "version": "3.6.3"
  }
 },
 "nbformat": 4,
 "nbformat_minor": 2
}
